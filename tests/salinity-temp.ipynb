{
 "cells": [
  {
   "cell_type": "code",
   "execution_count": 14,
   "id": "0a41d48c",
   "metadata": {},
   "outputs": [],
   "source": [
    "import argopy\n",
    "import numpy as np\n",
    "import matplotlib.pyplot as plt"
   ]
  },
  {
   "cell_type": "code",
   "execution_count": 15,
   "id": "f3372415",
   "metadata": {},
   "outputs": [],
   "source": [
    "# Fetches real-world ARGO float data for a specific region, depth range, and time range.\n",
    "# Longitude range: from 75°W to 45°W\n",
    "# Latitude range: from 20°N to 30°N\n",
    "# Pressure range: 0 to 10 decibars (surface layer)\n",
    "# Start date: January 2011\n",
    "# End date: June 2011\n",
    "ds = argopy.DataFetcher().region([-75, -45, 20, 30, 0, 10, '2011-01', '2011-06']).load().data"
   ]
  },
  {
   "cell_type": "code",
   "execution_count": null,
   "id": "e7923959",
   "metadata": {},
   "outputs": [],
   "source": [
    "# Get T, S, and z 1D arrays from dataset\n",
    "T = ds['TEMP'].values\n",
    "S = ds['PSAL'].values\n",
    "z = ds['PRES'].values"
   ]
  },
  {
   "cell_type": "code",
   "execution_count": null,
   "id": "1d9127f8",
   "metadata": {},
   "outputs": [
    {
     "data": {
      "text/plain": [
       "(200,)"
      ]
     },
     "execution_count": 17,
     "metadata": {},
     "output_type": "execute_result"
    }
   ],
   "source": [
    "# Define number of points\n",
    "num_points = 200\n",
    "\n",
    "# Generate interpolated grid based on original data\n",
    "T_interp = np.linspace(np.nanmin(T), np.nanmax(T), num_points)\n",
    "S_interp = np.linspace(np.nanmin(S), np.nanmax(S), num_points)\n",
    "z_interp = np.linspace(np.nanmin(z), np.nanmax(z), num_points)\n",
    "\n",
    "z_new.shape"
   ]
  }
 ],
 "metadata": {
  "kernelspec": {
   "display_name": "myEnv",
   "language": "python",
   "name": "python3"
  },
  "language_info": {
   "codemirror_mode": {
    "name": "ipython",
    "version": 3
   },
   "file_extension": ".py",
   "mimetype": "text/x-python",
   "name": "python",
   "nbconvert_exporter": "python",
   "pygments_lexer": "ipython3",
   "version": "3.10.4"
  }
 },
 "nbformat": 4,
 "nbformat_minor": 5
}
