{
 "cells": [
  {
   "cell_type": "code",
   "execution_count": null,
   "id": "c8ec0954",
   "metadata": {},
   "outputs": [
    {
     "data": {
      "text/html": [
       "<div>\n",
       "<style scoped>\n",
       "    .dataframe tbody tr th:only-of-type {\n",
       "        vertical-align: middle;\n",
       "    }\n",
       "\n",
       "    .dataframe tbody tr th {\n",
       "        vertical-align: top;\n",
       "    }\n",
       "\n",
       "    .dataframe thead th {\n",
       "        text-align: right;\n",
       "    }\n",
       "</style>\n",
       "<table border=\"1\" class=\"dataframe\">\n",
       "  <thead>\n",
       "    <tr style=\"text-align: right;\">\n",
       "      <th></th>\n",
       "      <th>0</th>\n",
       "      <th>1</th>\n",
       "      <th>2</th>\n",
       "      <th>3</th>\n",
       "      <th>4</th>\n",
       "    </tr>\n",
       "  </thead>\n",
       "  <tbody>\n",
       "    <tr>\n",
       "      <th>0</th>\n",
       "      <td>0.423080</td>\n",
       "      <td>0.425349</td>\n",
       "      <td>0.901072</td>\n",
       "      <td>0.729056</td>\n",
       "      <td>0.690504</td>\n",
       "    </tr>\n",
       "    <tr>\n",
       "      <th>1</th>\n",
       "      <td>0.318752</td>\n",
       "      <td>0.036310</td>\n",
       "      <td>0.018587</td>\n",
       "      <td>0.046482</td>\n",
       "      <td>0.211129</td>\n",
       "    </tr>\n",
       "    <tr>\n",
       "      <th>2</th>\n",
       "      <td>0.868236</td>\n",
       "      <td>0.552331</td>\n",
       "      <td>0.653472</td>\n",
       "      <td>0.087706</td>\n",
       "      <td>0.204566</td>\n",
       "    </tr>\n",
       "    <tr>\n",
       "      <th>3</th>\n",
       "      <td>0.978532</td>\n",
       "      <td>0.481908</td>\n",
       "      <td>0.172100</td>\n",
       "      <td>0.619354</td>\n",
       "      <td>0.772279</td>\n",
       "    </tr>\n",
       "    <tr>\n",
       "      <th>4</th>\n",
       "      <td>0.819507</td>\n",
       "      <td>0.268100</td>\n",
       "      <td>0.266721</td>\n",
       "      <td>0.383874</td>\n",
       "      <td>0.987248</td>\n",
       "    </tr>\n",
       "  </tbody>\n",
       "</table>\n",
       "</div>"
      ],
      "text/plain": [
       "          0         1         2         3         4\n",
       "0  0.423080  0.425349  0.901072  0.729056  0.690504\n",
       "1  0.318752  0.036310  0.018587  0.046482  0.211129\n",
       "2  0.868236  0.552331  0.653472  0.087706  0.204566\n",
       "3  0.978532  0.481908  0.172100  0.619354  0.772279\n",
       "4  0.819507  0.268100  0.266721  0.383874  0.987248"
      ]
     },
     "execution_count": 1,
     "metadata": {},
     "output_type": "execute_result"
    }
   ],
   "source": [
    "import numpy as np\n",
    "import pandas as pd\n",
    "\n",
    "arr = np.random.rand(5, 5)\n",
    "df = pd.DataFrame(arr)\n",
    "df"
   ]
  }
 ],
 "metadata": {
  "kernelspec": {
   "display_name": "myEnv",
   "language": "python",
   "name": "python3"
  },
  "language_info": {
   "codemirror_mode": {
    "name": "ipython",
    "version": 3
   },
   "file_extension": ".py",
   "mimetype": "text/x-python",
   "name": "python",
   "nbconvert_exporter": "python",
   "pygments_lexer": "ipython3",
   "version": "3.10.4"
  }
 },
 "nbformat": 4,
 "nbformat_minor": 5
}
